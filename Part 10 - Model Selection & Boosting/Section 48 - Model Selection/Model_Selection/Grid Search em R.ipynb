{
 "cells": [
  {
   "cell_type": "code",
   "execution_count": 1,
   "metadata": {},
   "outputs": [
    {
     "name": "stderr",
     "output_type": "stream",
     "text": [
      "Warning message:\n",
      "“package ‘caret’ was built under R version 3.4.4”Loading required package: lattice\n",
      "Loading required package: ggplot2\n"
     ]
    }
   ],
   "source": [
    "# Grid Search\n",
    "\n",
    "# Importing the dataset\n",
    "dataset = read.csv('Social_Network_Ads.csv')\n",
    "dataset = dataset[3:5]\n",
    "\n",
    "# Encoding the target feature as factor\n",
    "dataset$Purchased = factor(dataset$Purchased, levels = c(0, 1))\n",
    "\n",
    "# Splitting the dataset into the Training set and Test set\n",
    "# install.packages('caTools')\n",
    "library(caTools)\n",
    "set.seed(123)\n",
    "split = sample.split(dataset$Purchased, SplitRatio = 0.75)\n",
    "training_set = subset(dataset, split == TRUE)\n",
    "test_set = subset(dataset, split == FALSE)\n",
    "\n",
    "# Feature Scaling\n",
    "training_set[-3] = scale(training_set[-3])\n",
    "test_set[-3] = scale(test_set[-3])\n",
    "\n",
    "# Fitting Kernel SVM to the Training set\n",
    "# install.packages('e1071')\n",
    "library(e1071)\n",
    "classifier = svm(formula = Purchased ~ .,\n",
    "                 data = training_set,\n",
    "                 type = 'C-classification',\n",
    "                 kernel = 'radial')\n",
    "\n",
    "# Predicting the Test set results\n",
    "y_pred = predict(classifier, newdata = test_set[-3])\n",
    "\n",
    "# Making the Confusion Matrix\n",
    "cm = table(test_set[, 3], y_pred)\n",
    "\n",
    "# Applying k-Fold Cross Validation\n",
    "# install.packages('caret')\n",
    "library(caret)\n",
    "folds = createFolds(training_set$Purchased, k = 10)\n",
    "cv = lapply(folds, function(x) {\n",
    "  training_fold = training_set[-x, ]\n",
    "  test_fold = training_set[x, ]\n",
    "  classifier = svm(formula = Purchased ~ .,\n",
    "                   data = training_fold,\n",
    "                   type = 'C-classification',\n",
    "                   kernel = 'radial')\n",
    "  y_pred = predict(classifier, newdata = test_fold[-3])\n",
    "  cm = table(test_fold[, 3], y_pred)\n",
    "  accuracy = (cm[1,1] + cm[2,2]) / (cm[1,1] + cm[2,2] + cm[1,2] + cm[2,1])\n",
    "  return(accuracy)\n",
    "})\n",
    "accuracy = mean(as.numeric(cv))\n"
   ]
  },
  {
   "cell_type": "markdown",
   "metadata": {},
   "source": [
    "Agora vamos aplicar o gridSearch com a biblioteca CARET. Todos os métodos que ela suporta -> http://topepo.github.io/caret/available-models.html"
   ]
  },
  {
   "cell_type": "code",
   "execution_count": 2,
   "metadata": {},
   "outputs": [
    {
     "name": "stdout",
     "output_type": "stream",
     "text": [
      "\n",
      "The downloaded binary packages are in\n",
      "\t/var/folders/qq/gkyyxk3d0q769zkwc0hf1mfw0000gn/T//RtmpZxd02a/downloaded_packages\n"
     ]
    }
   ],
   "source": [
    "# Applying Grid Search to find the best parameters\n",
    "install.packages('caret')\n"
   ]
  },
  {
   "cell_type": "code",
   "execution_count": 3,
   "metadata": {
    "collapsed": true
   },
   "outputs": [],
   "source": [
    "library(caret)\n"
   ]
  },
  {
   "cell_type": "code",
   "execution_count": 4,
   "metadata": {
    "collapsed": true
   },
   "outputs": [],
   "source": [
    "classifier = train(form = Purchased ~ ., data = training_set, method = 'svmRadial')\n"
   ]
  },
  {
   "cell_type": "code",
   "execution_count": 5,
   "metadata": {},
   "outputs": [
    {
     "data": {
      "text/plain": [
       "Support Vector Machines with Radial Basis Function Kernel \n",
       "\n",
       "300 samples\n",
       "  2 predictor\n",
       "  2 classes: '0', '1' \n",
       "\n",
       "No pre-processing\n",
       "Resampling: Bootstrapped (25 reps) \n",
       "Summary of sample sizes: 300, 300, 300, 300, 300, 300, ... \n",
       "Resampling results across tuning parameters:\n",
       "\n",
       "  C     Accuracy   Kappa    \n",
       "  0.25  0.9169594  0.8219450\n",
       "  0.50  0.9172678  0.8229936\n",
       "  1.00  0.9177174  0.8234902\n",
       "\n",
       "Tuning parameter 'sigma' was held constant at a value of 2.251496\n",
       "Accuracy was used to select the optimal model using the largest value.\n",
       "The final values used for the model were sigma = 2.251496 and C = 1."
      ]
     },
     "metadata": {},
     "output_type": "display_data"
    }
   ],
   "source": [
    "classifier\n"
   ]
  },
  {
   "cell_type": "code",
   "execution_count": 6,
   "metadata": {},
   "outputs": [
    {
     "data": {
      "text/html": [
       "<table>\n",
       "<thead><tr><th></th><th scope=col>sigma</th><th scope=col>C</th></tr></thead>\n",
       "<tbody>\n",
       "\t<tr><th scope=row>3</th><td>2.251496</td><td>1       </td></tr>\n",
       "</tbody>\n",
       "</table>\n"
      ],
      "text/latex": [
       "\\begin{tabular}{r|ll}\n",
       "  & sigma & C\\\\\n",
       "\\hline\n",
       "\t3 & 2.251496 & 1       \\\\\n",
       "\\end{tabular}\n"
      ],
      "text/markdown": [
       "\n",
       "| <!--/--> | sigma | C | \n",
       "|---|\n",
       "| 3 | 2.251496 | 1        | \n",
       "\n",
       "\n"
      ],
      "text/plain": [
       "  sigma    C\n",
       "3 2.251496 1"
      ]
     },
     "metadata": {},
     "output_type": "display_data"
    }
   ],
   "source": [
    "#melhor opcao\n",
    "classifier$bestTune\n"
   ]
  },
  {
   "cell_type": "code",
   "execution_count": null,
   "metadata": {
    "collapsed": true
   },
   "outputs": [],
   "source": []
  }
 ],
 "metadata": {
  "kernelspec": {
   "display_name": "R",
   "language": "R",
   "name": "ir"
  },
  "language_info": {
   "codemirror_mode": "r",
   "file_extension": ".r",
   "mimetype": "text/x-r-source",
   "name": "R",
   "pygments_lexer": "r",
   "version": "3.4.3"
  }
 },
 "nbformat": 4,
 "nbformat_minor": 2
}
